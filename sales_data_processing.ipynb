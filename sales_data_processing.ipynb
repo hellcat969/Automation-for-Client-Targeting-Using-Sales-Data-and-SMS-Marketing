{
 "cells": [
  {
   "cell_type": "code",
   "execution_count": 32,
   "metadata": {},
   "outputs": [],
   "source": [
    "import pandas as pd\n",
    "import numpy as np\n",
    "import matplotlib.pyplot as plt\n",
    "import seaborn as sns"
   ]
  },
  {
   "cell_type": "code",
   "execution_count": 33,
   "metadata": {},
   "outputs": [
    {
     "data": {
      "text/html": [
       "<div>\n",
       "<style scoped>\n",
       "    .dataframe tbody tr th:only-of-type {\n",
       "        vertical-align: middle;\n",
       "    }\n",
       "\n",
       "    .dataframe tbody tr th {\n",
       "        vertical-align: top;\n",
       "    }\n",
       "\n",
       "    .dataframe thead th {\n",
       "        text-align: right;\n",
       "    }\n",
       "</style>\n",
       "<table border=\"1\" class=\"dataframe\">\n",
       "  <thead>\n",
       "    <tr style=\"text-align: right;\">\n",
       "      <th></th>\n",
       "      <th>order_id</th>\n",
       "      <th>date</th>\n",
       "      <th>item_name</th>\n",
       "      <th>item_type</th>\n",
       "      <th>item_price</th>\n",
       "      <th>quantity</th>\n",
       "      <th>transaction_amount</th>\n",
       "      <th>transaction_type</th>\n",
       "      <th>received_by</th>\n",
       "      <th>time_of_sale</th>\n",
       "      <th>...</th>\n",
       "      <th>email_2</th>\n",
       "      <th>website</th>\n",
       "      <th>open_hours</th>\n",
       "      <th>latitude</th>\n",
       "      <th>longitude</th>\n",
       "      <th>facebook</th>\n",
       "      <th>twitter</th>\n",
       "      <th>instagram</th>\n",
       "      <th>pinterest</th>\n",
       "      <th>youtube</th>\n",
       "    </tr>\n",
       "  </thead>\n",
       "  <tbody>\n",
       "    <tr>\n",
       "      <th>0</th>\n",
       "      <td>1</td>\n",
       "      <td>07-03-2022</td>\n",
       "      <td>Aalopuri</td>\n",
       "      <td>Fastfood</td>\n",
       "      <td>20</td>\n",
       "      <td>13</td>\n",
       "      <td>260</td>\n",
       "      <td>NaN</td>\n",
       "      <td>Mr.</td>\n",
       "      <td>Night</td>\n",
       "      <td>...</td>\n",
       "      <td>NaN</td>\n",
       "      <td>NaN</td>\n",
       "      <td>Mon : 7:00 AM - 11:00 PM, Tue : 7:00 AM - 11:0...</td>\n",
       "      <td>33.435408</td>\n",
       "      <td>-94.077998</td>\n",
       "      <td>NaN</td>\n",
       "      <td>NaN</td>\n",
       "      <td>NaN</td>\n",
       "      <td>NaN</td>\n",
       "      <td>NaN</td>\n",
       "    </tr>\n",
       "    <tr>\n",
       "      <th>1</th>\n",
       "      <td>2</td>\n",
       "      <td>8/23/2022</td>\n",
       "      <td>Vadapav</td>\n",
       "      <td>Fastfood</td>\n",
       "      <td>20</td>\n",
       "      <td>15</td>\n",
       "      <td>300</td>\n",
       "      <td>Cash</td>\n",
       "      <td>Mr.</td>\n",
       "      <td>Afternoon</td>\n",
       "      <td>...</td>\n",
       "      <td>NaN</td>\n",
       "      <td>NaN</td>\n",
       "      <td>Mon : 24 hr, Tue : 24 hr, Wed : 24 hr, Thu : 2...</td>\n",
       "      <td>36.056683</td>\n",
       "      <td>-94.187932</td>\n",
       "      <td>NaN</td>\n",
       "      <td>NaN</td>\n",
       "      <td>NaN</td>\n",
       "      <td>NaN</td>\n",
       "      <td>NaN</td>\n",
       "    </tr>\n",
       "    <tr>\n",
       "      <th>2</th>\n",
       "      <td>3</td>\n",
       "      <td>11/20/2022</td>\n",
       "      <td>Vadapav</td>\n",
       "      <td>Fastfood</td>\n",
       "      <td>20</td>\n",
       "      <td>1</td>\n",
       "      <td>20</td>\n",
       "      <td>Cash</td>\n",
       "      <td>Mr.</td>\n",
       "      <td>Afternoon</td>\n",
       "      <td>...</td>\n",
       "      <td>NaN</td>\n",
       "      <td>NaN</td>\n",
       "      <td>Mon : 24 hr, Tue : 24 hr, Wed : 24 hr, Thu : 2...</td>\n",
       "      <td>36.124410</td>\n",
       "      <td>-94.143977</td>\n",
       "      <td>NaN</td>\n",
       "      <td>NaN</td>\n",
       "      <td>NaN</td>\n",
       "      <td>NaN</td>\n",
       "      <td>NaN</td>\n",
       "    </tr>\n",
       "    <tr>\n",
       "      <th>3</th>\n",
       "      <td>4</td>\n",
       "      <td>02-03-2023</td>\n",
       "      <td>Sugarcane juice</td>\n",
       "      <td>Beverages</td>\n",
       "      <td>25</td>\n",
       "      <td>6</td>\n",
       "      <td>150</td>\n",
       "      <td>Online</td>\n",
       "      <td>Mr.</td>\n",
       "      <td>Night</td>\n",
       "      <td>...</td>\n",
       "      <td>NaN</td>\n",
       "      <td>NaN</td>\n",
       "      <td>Mon : 24 hr, Tue : 24 hr, Wed : 24 hr, Thu : 2...</td>\n",
       "      <td>36.193670</td>\n",
       "      <td>-94.176187</td>\n",
       "      <td>NaN</td>\n",
       "      <td>NaN</td>\n",
       "      <td>NaN</td>\n",
       "      <td>NaN</td>\n",
       "      <td>NaN</td>\n",
       "    </tr>\n",
       "    <tr>\n",
       "      <th>4</th>\n",
       "      <td>5</td>\n",
       "      <td>10-02-2022</td>\n",
       "      <td>Sugarcane juice</td>\n",
       "      <td>Beverages</td>\n",
       "      <td>25</td>\n",
       "      <td>8</td>\n",
       "      <td>200</td>\n",
       "      <td>Online</td>\n",
       "      <td>Mr.</td>\n",
       "      <td>Evening</td>\n",
       "      <td>...</td>\n",
       "      <td>NaN</td>\n",
       "      <td>NaN</td>\n",
       "      <td>Mon : 24 hr, Tue : 24 hr, Wed : 24 hr, Thu : 2...</td>\n",
       "      <td>32.400140</td>\n",
       "      <td>-90.143592</td>\n",
       "      <td>NaN</td>\n",
       "      <td>NaN</td>\n",
       "      <td>NaN</td>\n",
       "      <td>NaN</td>\n",
       "      <td>NaN</td>\n",
       "    </tr>\n",
       "  </tbody>\n",
       "</table>\n",
       "<p>5 rows × 32 columns</p>\n",
       "</div>"
      ],
      "text/plain": [
       "   order_id        date        item_name  item_type  item_price  quantity  \\\n",
       "0         1  07-03-2022         Aalopuri   Fastfood          20        13   \n",
       "1         2   8/23/2022          Vadapav   Fastfood          20        15   \n",
       "2         3  11/20/2022          Vadapav   Fastfood          20         1   \n",
       "3         4  02-03-2023  Sugarcane juice  Beverages          25         6   \n",
       "4         5  10-02-2022  Sugarcane juice  Beverages          25         8   \n",
       "\n",
       "   transaction_amount transaction_type received_by time_of_sale  ... email_2  \\\n",
       "0                 260              NaN         Mr.        Night  ...     NaN   \n",
       "1                 300             Cash         Mr.    Afternoon  ...     NaN   \n",
       "2                  20             Cash         Mr.    Afternoon  ...     NaN   \n",
       "3                 150           Online         Mr.        Night  ...     NaN   \n",
       "4                 200           Online         Mr.      Evening  ...     NaN   \n",
       "\n",
       "  website                                         open_hours   latitude  \\\n",
       "0     NaN  Mon : 7:00 AM - 11:00 PM, Tue : 7:00 AM - 11:0...  33.435408   \n",
       "1     NaN  Mon : 24 hr, Tue : 24 hr, Wed : 24 hr, Thu : 2...  36.056683   \n",
       "2     NaN  Mon : 24 hr, Tue : 24 hr, Wed : 24 hr, Thu : 2...  36.124410   \n",
       "3     NaN  Mon : 24 hr, Tue : 24 hr, Wed : 24 hr, Thu : 2...  36.193670   \n",
       "4     NaN  Mon : 24 hr, Tue : 24 hr, Wed : 24 hr, Thu : 2...  32.400140   \n",
       "\n",
       "   longitude  facebook twitter instagram  pinterest  youtube  \n",
       "0 -94.077998       NaN     NaN       NaN        NaN      NaN  \n",
       "1 -94.187932       NaN     NaN       NaN        NaN      NaN  \n",
       "2 -94.143977       NaN     NaN       NaN        NaN      NaN  \n",
       "3 -94.176187       NaN     NaN       NaN        NaN      NaN  \n",
       "4 -90.143592       NaN     NaN       NaN        NaN      NaN  \n",
       "\n",
       "[5 rows x 32 columns]"
      ]
     },
     "execution_count": 33,
     "metadata": {},
     "output_type": "execute_result"
    }
   ],
   "source": [
    "df = pd.read_csv('merged_dataset_1000_rows.csv')\n",
    "df.head(5)"
   ]
  },
  {
   "cell_type": "code",
   "execution_count": 34,
   "metadata": {},
   "outputs": [
    {
     "data": {
      "text/plain": [
       "Index(['order_id', 'date', 'item_name', 'item_type', 'item_price', 'quantity',\n",
       "       'transaction_amount', 'transaction_type', 'received_by', 'time_of_sale',\n",
       "       'name', 'url', 'street_address', 'city', 'state', 'zip_code', 'country',\n",
       "       'phone_number_1', 'phone_number_2', 'fax_1', 'fax_2', 'email_1',\n",
       "       'email_2', 'website', 'open_hours', 'latitude', 'longitude', 'facebook',\n",
       "       'twitter', 'instagram', 'pinterest', 'youtube'],\n",
       "      dtype='object')"
      ]
     },
     "execution_count": 34,
     "metadata": {},
     "output_type": "execute_result"
    }
   ],
   "source": [
    "df.columns"
   ]
  },
  {
   "cell_type": "code",
   "execution_count": 35,
   "metadata": {},
   "outputs": [
    {
     "data": {
      "text/plain": [
       "Index(['item_name', 'item_type', 'item_price', 'quantity',\n",
       "       'transaction_amount', 'city', 'zip_code', 'country', 'phone_number_1'],\n",
       "      dtype='object')"
      ]
     },
     "execution_count": 35,
     "metadata": {},
     "output_type": "execute_result"
    }
   ],
   "source": [
    "df1 = df.drop(columns=['transaction_type','order_id','date','received_by','time_of_sale','name','url','street_address','state','phone_number_2','fax_1','fax_2','email_1','email_2','website','open_hours','latitude','longitude','facebook','twitter','instagram','pinterest','youtube'])\n",
    "df1.columns"
   ]
  },
  {
   "cell_type": "code",
   "execution_count": 36,
   "metadata": {},
   "outputs": [
    {
     "data": {
      "text/html": [
       "<div>\n",
       "<style scoped>\n",
       "    .dataframe tbody tr th:only-of-type {\n",
       "        vertical-align: middle;\n",
       "    }\n",
       "\n",
       "    .dataframe tbody tr th {\n",
       "        vertical-align: top;\n",
       "    }\n",
       "\n",
       "    .dataframe thead th {\n",
       "        text-align: right;\n",
       "    }\n",
       "</style>\n",
       "<table border=\"1\" class=\"dataframe\">\n",
       "  <thead>\n",
       "    <tr style=\"text-align: right;\">\n",
       "      <th></th>\n",
       "      <th>item_name</th>\n",
       "      <th>item_type</th>\n",
       "      <th>item_price</th>\n",
       "      <th>quantity</th>\n",
       "      <th>transaction_amount</th>\n",
       "      <th>city</th>\n",
       "      <th>zip_code</th>\n",
       "      <th>country</th>\n",
       "      <th>phone_number_1</th>\n",
       "    </tr>\n",
       "  </thead>\n",
       "  <tbody>\n",
       "    <tr>\n",
       "      <th>0</th>\n",
       "      <td>Aalopuri</td>\n",
       "      <td>Fastfood</td>\n",
       "      <td>20</td>\n",
       "      <td>13</td>\n",
       "      <td>260</td>\n",
       "      <td>Texarkana</td>\n",
       "      <td>75501.0</td>\n",
       "      <td>US</td>\n",
       "      <td>(903) 832-2727</td>\n",
       "    </tr>\n",
       "    <tr>\n",
       "      <th>1</th>\n",
       "      <td>Vadapav</td>\n",
       "      <td>Fastfood</td>\n",
       "      <td>20</td>\n",
       "      <td>15</td>\n",
       "      <td>300</td>\n",
       "      <td>Fayetteville</td>\n",
       "      <td>72701.0</td>\n",
       "      <td>US</td>\n",
       "      <td>(479) 443-2217</td>\n",
       "    </tr>\n",
       "  </tbody>\n",
       "</table>\n",
       "</div>"
      ],
      "text/plain": [
       "  item_name item_type  item_price  quantity  transaction_amount          city  \\\n",
       "0  Aalopuri  Fastfood          20        13                 260     Texarkana   \n",
       "1   Vadapav  Fastfood          20        15                 300  Fayetteville   \n",
       "\n",
       "   zip_code country  phone_number_1  \n",
       "0   75501.0      US  (903) 832-2727  \n",
       "1   72701.0      US  (479) 443-2217  "
      ]
     },
     "execution_count": 36,
     "metadata": {},
     "output_type": "execute_result"
    }
   ],
   "source": [
    "df1.head(2)"
   ]
  },
  {
   "cell_type": "code",
   "execution_count": 37,
   "metadata": {},
   "outputs": [
    {
     "data": {
      "text/plain": [
       "item_name             0\n",
       "item_type             0\n",
       "item_price            0\n",
       "quantity              0\n",
       "transaction_amount    0\n",
       "city                  1\n",
       "zip_code              1\n",
       "country               1\n",
       "phone_number_1        1\n",
       "dtype: int64"
      ]
     },
     "execution_count": 37,
     "metadata": {},
     "output_type": "execute_result"
    }
   ],
   "source": [
    "df1.isnull().sum()"
   ]
  },
  {
   "cell_type": "code",
   "execution_count": 38,
   "metadata": {},
   "outputs": [],
   "source": [
    "df1= df1.dropna()"
   ]
  },
  {
   "cell_type": "code",
   "execution_count": 39,
   "metadata": {},
   "outputs": [
    {
     "data": {
      "text/plain": [
       "item_name             0\n",
       "item_type             0\n",
       "item_price            0\n",
       "quantity              0\n",
       "transaction_amount    0\n",
       "city                  0\n",
       "zip_code              0\n",
       "country               0\n",
       "phone_number_1        0\n",
       "dtype: int64"
      ]
     },
     "execution_count": 39,
     "metadata": {},
     "output_type": "execute_result"
    }
   ],
   "source": [
    "df1.isnull().sum()"
   ]
  },
  {
   "cell_type": "code",
   "execution_count": 44,
   "metadata": {},
   "outputs": [
    {
     "data": {
      "text/plain": [
       "array(['Fastfood', 'Beverages'], dtype=object)"
      ]
     },
     "execution_count": 44,
     "metadata": {},
     "output_type": "execute_result"
    }
   ],
   "source": [
    "df1['item_type'].unique()"
   ]
  },
  {
   "cell_type": "code",
   "execution_count": 48,
   "metadata": {},
   "outputs": [
    {
     "data": {
      "text/plain": [
       "array([13, 15,  1,  6,  8, 10,  9, 14,  5,  4,  3, 11, 12,  2,  7],\n",
       "      dtype=int64)"
      ]
     },
     "execution_count": 48,
     "metadata": {},
     "output_type": "execute_result"
    }
   ],
   "source": [
    "df1['quantity'].unique()"
   ]
  },
  {
   "cell_type": "code",
   "execution_count": 49,
   "metadata": {},
   "outputs": [
    {
     "data": {
      "text/plain": [
       "Index(['item_name', 'item_type', 'item_price', 'quantity',\n",
       "       'transaction_amount', 'city', 'zip_code', 'country', 'phone_number_1'],\n",
       "      dtype='object')"
      ]
     },
     "execution_count": 49,
     "metadata": {},
     "output_type": "execute_result"
    }
   ],
   "source": [
    "df1.columns"
   ]
  },
  {
   "cell_type": "code",
   "execution_count": 50,
   "metadata": {},
   "outputs": [
    {
     "name": "stdout",
     "output_type": "stream",
     "text": [
      "Segment for Item Type: Beverages\n",
      "          item_name  item_type  item_price  quantity  transaction_amount  \\\n",
      "3   Sugarcane juice  Beverages          25         6                 150   \n",
      "4   Sugarcane juice  Beverages          25         8                 200   \n",
      "6   Sugarcane juice  Beverages          25         9                 225   \n",
      "19      Cold coffee  Beverages          40        10                 400   \n",
      "20      Cold coffee  Beverages          40        15                 600   \n",
      "\n",
      "          city  zip_code country  phone_number_1  \n",
      "3   Springdale   72762.0      US  (479) 750-2754  \n",
      "4    Ridgeland   39157.0      US  (601) 956-6466  \n",
      "6      Jackson   39202.0      US  (601) 896-0074  \n",
      "19      Tucson   85712.0      US  (520) 327-2684  \n",
      "20      Tucson   85713.0      US  (520) 294-2116  \n",
      "\n",
      "\n",
      "Segment for Item Type: Fastfood\n",
      "  item_name item_type  item_price  quantity  transaction_amount          city  \\\n",
      "0  Aalopuri  Fastfood          20        13                 260     Texarkana   \n",
      "1   Vadapav  Fastfood          20        15                 300  Fayetteville   \n",
      "2   Vadapav  Fastfood          20         1                  20  Fayetteville   \n",
      "5   Vadapav  Fastfood          20        10                 200      Richland   \n",
      "7  Panipuri  Fastfood          20        14                 280        Mobile   \n",
      "\n",
      "   zip_code country  phone_number_1  \n",
      "0   75501.0      US  (903) 832-2727  \n",
      "1   72701.0      US  (479) 443-2217  \n",
      "2   72703.0      US  (479) 442-2226  \n",
      "5   39218.0      US  (601) 936-2473  \n",
      "7   36608.0      US  (251) 607-0702  \n",
      "\n",
      "\n",
      "Summary Statistics for Transaction Amount by Item Type:\n",
      "           count        mean         std   min    25%    50%    75%    max\n",
      "item_type                                                                 \n",
      "Beverages  314.0  275.127389  158.185547  25.0  150.0  280.0  375.0  600.0\n",
      "Fastfood   685.0  275.591241  222.493464  20.0  100.0  220.0  350.0  900.0\n"
     ]
    }
   ],
   "source": [
    "\n",
    "segmented_clients = df1.groupby('item_type')\n",
    "\n",
    "# View the first few rows of each segment\n",
    "for item_type, group in segmented_clients:\n",
    "    print(f\"Segment for Item Type: {item_type}\")\n",
    "    print(group.head())  # Shows the first few rows for each segment\n",
    "    print(\"\\n\")\n",
    "\n",
    "\n",
    "summary_stats = segmented_clients['transaction_amount'].describe()\n",
    "\n",
    "\n",
    "print(\"Summary Statistics for Transaction Amount by Item Type:\")\n",
    "print(summary_stats)\n"
   ]
  },
  {
   "cell_type": "code",
   "execution_count": 51,
   "metadata": {},
   "outputs": [],
   "source": [
    "for item_type, group in segmented_clients:\n",
    "    group.to_csv(f\"segmented_clients_{item_type}.csv\", index=False)\n"
   ]
  },
  {
   "cell_type": "code",
   "execution_count": 52,
   "metadata": {},
   "outputs": [
    {
     "name": "stdout",
     "output_type": "stream",
     "text": [
      "Summary of Quantities by Item Type:\n",
      "item_type\n",
      "Beverages    2639\n",
      "Fastfood     5520\n",
      "Name: quantity, dtype: int64\n"
     ]
    }
   ],
   "source": [
    "summary_quantity = segmented_clients['quantity'].sum()\n",
    "print(\"Summary of Quantities by Item Type:\")\n",
    "print(summary_quantity)\n"
   ]
  },
  {
   "cell_type": "code",
   "execution_count": null,
   "metadata": {},
   "outputs": [],
   "source": []
  },
  {
   "cell_type": "code",
   "execution_count": 56,
   "metadata": {},
   "outputs": [
    {
     "name": "stdout",
     "output_type": "stream",
     "text": [
      "Mean Absolute Error (MAE): 0.5897500000000011\n",
      "Mean Squared Error (MSE): 2.893587500000017\n",
      "R-squared (R2): 0.9999282942706956\n"
     ]
    }
   ],
   "source": [
    "from sklearn.model_selection import train_test_split\n",
    "from sklearn.preprocessing import StandardScaler\n",
    "from sklearn.ensemble import RandomForestRegressor\n",
    "from sklearn.metrics import mean_absolute_error, mean_squared_error, r2_score\n",
    "from sklearn.preprocessing import LabelEncoder\n",
    "\n",
    "# Assuming df1 is your DataFrame\n",
    "df1.dropna(subset=['transaction_amount'], inplace=True)\n",
    "\n",
    "# Initialize the LabelEncoder\n",
    "label_encoder = LabelEncoder()\n",
    "\n",
    "# Correctly reference df1 for encoding\n",
    "df1['item_name'] = label_encoder.fit_transform(df1['item_name'])\n",
    "df1['item_type'] = label_encoder.fit_transform(df1['item_type'])\n",
    "df1['city'] = label_encoder.fit_transform(df1['city'])\n",
    "df1['country'] = label_encoder.fit_transform(df1['country'])\n",
    "\n",
    "# Features and target\n",
    "X = df1[['item_name', 'item_type', 'item_price', 'quantity', 'city', 'zip_code', 'country']]\n",
    "y = df1['transaction_amount']  # Target variable\n",
    "\n",
    "# Train-test split (80% training, 20% testing)\n",
    "X_train, X_test, y_train, y_test = train_test_split(X, y, test_size=0.2, random_state=42)\n",
    "\n",
    "# Feature scaling (normalize the numeric columns)\n",
    "scaler = StandardScaler()\n",
    "X_train[['item_price', 'quantity', 'zip_code']] = scaler.fit_transform(X_train[['item_price', 'quantity', 'zip_code']])\n",
    "X_test[['item_price', 'quantity', 'zip_code']] = scaler.transform(X_test[['item_price', 'quantity', 'zip_code']])\n",
    "\n",
    "# Train a Random Forest Regressor model\n",
    "model = RandomForestRegressor(n_estimators=100, random_state=42)\n",
    "model.fit(X_train, y_train)\n",
    "\n",
    "# Predict on the test set\n",
    "y_pred = model.predict(X_test)\n",
    "\n",
    "# Evaluate the model\n",
    "mae = mean_absolute_error(y_test, y_pred)\n",
    "mse = mean_squared_error(y_test, y_pred)\n",
    "r2 = r2_score(y_test, y_pred)\n",
    "\n",
    "# Print evaluation metrics\n",
    "print(\"Mean Absolute Error (MAE):\", mae)\n",
    "print(\"Mean Squared Error (MSE):\", mse)\n",
    "print(\"R-squared (R2):\", r2)\n"
   ]
  },
  {
   "cell_type": "markdown",
   "metadata": {},
   "source": [
    "## Automation"
   ]
  },
  {
   "cell_type": "code",
   "execution_count": 57,
   "metadata": {},
   "outputs": [
    {
     "name": "stdout",
     "output_type": "stream",
     "text": [
      "   item_type  quantity  phone_number_1\n",
      "0          1        13  (903) 832-2727\n",
      "1          1        15  (479) 443-2217\n",
      "3          0         6  (479) 750-2754\n",
      "4          0         8  (601) 956-6466\n",
      "5          1        10  (601) 936-2473\n"
     ]
    }
   ],
   "source": [
    "# Assuming 'df1' is the segmented data based on 'item_type'\n",
    "targeted_customers = df1[df1['quantity'] > 5][['item_type', 'quantity', 'phone_number_1']]\n",
    "\n",
    "# Display the first few rows of targeted customers\n",
    "print(targeted_customers.head())\n"
   ]
  },
  {
   "cell_type": "code",
   "execution_count": 58,
   "metadata": {},
   "outputs": [
    {
     "name": "stdout",
     "output_type": "stream",
     "text": [
      "Collecting twilio\n",
      "  Downloading twilio-9.4.1-py2.py3-none-any.whl.metadata (12 kB)\n",
      "Requirement already satisfied: requests>=2.0.0 in c:\\users\\u\\appdata\\local\\programs\\python\\python312\\lib\\site-packages (from twilio) (2.32.3)\n",
      "Collecting PyJWT<3.0.0,>=2.0.0 (from twilio)\n",
      "  Downloading PyJWT-2.10.1-py3-none-any.whl.metadata (4.0 kB)\n",
      "Collecting aiohttp>=3.8.4 (from twilio)\n",
      "  Downloading aiohttp-3.11.11-cp312-cp312-win_amd64.whl.metadata (8.0 kB)\n",
      "Collecting aiohttp-retry==2.8.3 (from twilio)\n",
      "  Downloading aiohttp_retry-2.8.3-py3-none-any.whl.metadata (8.9 kB)\n",
      "Collecting aiohappyeyeballs>=2.3.0 (from aiohttp>=3.8.4->twilio)\n",
      "  Downloading aiohappyeyeballs-2.4.4-py3-none-any.whl.metadata (6.1 kB)\n",
      "Collecting aiosignal>=1.1.2 (from aiohttp>=3.8.4->twilio)\n",
      "  Downloading aiosignal-1.3.2-py2.py3-none-any.whl.metadata (3.8 kB)\n",
      "Requirement already satisfied: attrs>=17.3.0 in c:\\users\\u\\appdata\\local\\programs\\python\\python312\\lib\\site-packages (from aiohttp>=3.8.4->twilio) (24.3.0)\n",
      "Collecting frozenlist>=1.1.1 (from aiohttp>=3.8.4->twilio)\n",
      "  Downloading frozenlist-1.5.0-cp312-cp312-win_amd64.whl.metadata (14 kB)\n",
      "Collecting multidict<7.0,>=4.5 (from aiohttp>=3.8.4->twilio)\n",
      "  Downloading multidict-6.1.0-cp312-cp312-win_amd64.whl.metadata (5.1 kB)\n",
      "Collecting propcache>=0.2.0 (from aiohttp>=3.8.4->twilio)\n",
      "  Downloading propcache-0.2.1-cp312-cp312-win_amd64.whl.metadata (9.5 kB)\n",
      "Collecting yarl<2.0,>=1.17.0 (from aiohttp>=3.8.4->twilio)\n",
      "  Downloading yarl-1.18.3-cp312-cp312-win_amd64.whl.metadata (71 kB)\n",
      "Requirement already satisfied: charset-normalizer<4,>=2 in c:\\users\\u\\appdata\\local\\programs\\python\\python312\\lib\\site-packages (from requests>=2.0.0->twilio) (3.3.2)\n",
      "Requirement already satisfied: idna<4,>=2.5 in c:\\users\\u\\appdata\\local\\programs\\python\\python312\\lib\\site-packages (from requests>=2.0.0->twilio) (3.7)\n",
      "Requirement already satisfied: urllib3<3,>=1.21.1 in c:\\users\\u\\appdata\\local\\programs\\python\\python312\\lib\\site-packages (from requests>=2.0.0->twilio) (2.2.2)\n",
      "Requirement already satisfied: certifi>=2017.4.17 in c:\\users\\u\\appdata\\local\\programs\\python\\python312\\lib\\site-packages (from requests>=2.0.0->twilio) (2024.7.4)\n",
      "Downloading twilio-9.4.1-py2.py3-none-any.whl (1.9 MB)\n",
      "   ---------------------------------------- 0.0/1.9 MB ? eta -:--:--\n",
      "   ----------- ---------------------------- 0.5/1.9 MB 3.4 MB/s eta 0:00:01\n",
      "   ---------------------- ----------------- 1.0/1.9 MB 2.8 MB/s eta 0:00:01\n",
      "   --------------------------------- ------ 1.6/1.9 MB 2.7 MB/s eta 0:00:01\n",
      "   ---------------------------------------- 1.9/1.9 MB 2.7 MB/s eta 0:00:00\n",
      "Downloading aiohttp_retry-2.8.3-py3-none-any.whl (9.8 kB)\n",
      "Downloading aiohttp-3.11.11-cp312-cp312-win_amd64.whl (437 kB)\n",
      "Downloading PyJWT-2.10.1-py3-none-any.whl (22 kB)\n",
      "Downloading aiohappyeyeballs-2.4.4-py3-none-any.whl (14 kB)\n",
      "Downloading aiosignal-1.3.2-py2.py3-none-any.whl (7.6 kB)\n",
      "Downloading frozenlist-1.5.0-cp312-cp312-win_amd64.whl (51 kB)\n",
      "Downloading multidict-6.1.0-cp312-cp312-win_amd64.whl (28 kB)\n",
      "Downloading propcache-0.2.1-cp312-cp312-win_amd64.whl (44 kB)\n",
      "Downloading yarl-1.18.3-cp312-cp312-win_amd64.whl (90 kB)\n",
      "Installing collected packages: PyJWT, propcache, multidict, frozenlist, aiohappyeyeballs, yarl, aiosignal, aiohttp, aiohttp-retry, twilio\n",
      "Successfully installed PyJWT-2.10.1 aiohappyeyeballs-2.4.4 aiohttp-3.11.11 aiohttp-retry-2.8.3 aiosignal-1.3.2 frozenlist-1.5.0 multidict-6.1.0 propcache-0.2.1 twilio-9.4.1 yarl-1.18.3\n"
     ]
    },
    {
     "name": "stderr",
     "output_type": "stream",
     "text": [
      "\n",
      "[notice] A new release of pip is available: 24.2 -> 24.3.1\n",
      "[notice] To update, run: python.exe -m pip install --upgrade pip\n"
     ]
    }
   ],
   "source": [
    "! pip install twilio\n"
   ]
  },
  {
   "cell_type": "code",
   "execution_count": null,
   "metadata": {},
   "outputs": [],
   "source": [
    "from twilio.rest import Client\n",
    "\n",
    "# Filter data for quantity > 5\n",
    "targeted_customers = df1[df1['quantity'] > 5][['item_type', 'quantity', 'phone_number_1']]\n",
    "\n",
    "# Twilio credentials\n",
    "account_sid = 'your_account_sid'  # Replace with your Twilio account SID\n",
    "auth_token = 'your_auth_token'    # Replace with your Twilio authentication token\n",
    "twilio_phone_number = 'your_twilio_phone_number'  # Replace with your Twilio phone number\n",
    "\n",
    "# Initialize Twilio client\n",
    "client = Client(account_sid, auth_token)\n",
    "\n",
    "# Define message content\n",
    "message_content = \"Hello, we have special offers for you! Visit our store now and get discounts on your favorite items!\"\n",
    "\n",
    "# Send SMS to each targeted customer\n",
    "for index, row in targeted_customers.iterrows():\n",
    "    phone_number = row['phone_number_1']\n",
    "    \n",
    "    # Send SMS via Twilio API\n",
    "    message = client.messages.create(\n",
    "        body=message_content,\n",
    "        from_=twilio_phone_number,\n",
    "        to=phone_number\n",
    "    )\n",
    "    \n",
    "    # Print message SID for confirmation\n",
    "    print(f\"Sent message to {phone_number}: {message.sid}\")\n"
   ]
  }
 ],
 "metadata": {
  "kernelspec": {
   "display_name": "Python 3",
   "language": "python",
   "name": "python3"
  },
  "language_info": {
   "codemirror_mode": {
    "name": "ipython",
    "version": 3
   },
   "file_extension": ".py",
   "mimetype": "text/x-python",
   "name": "python",
   "nbconvert_exporter": "python",
   "pygments_lexer": "ipython3",
   "version": "3.12.4"
  }
 },
 "nbformat": 4,
 "nbformat_minor": 2
}
